{
 "cells": [
  {
   "cell_type": "markdown",
   "metadata": {},
   "source": [
    "# Import Libraries"
   ]
  },
  {
   "cell_type": "code",
   "execution_count": 1,
   "metadata": {
    "ExecuteTime": {
     "end_time": "2020-02-08T17:55:02.609015Z",
     "start_time": "2020-02-08T17:54:58.665566Z"
    }
   },
   "outputs": [],
   "source": [
    "# import requests\n",
    "# import json\n",
    "import pandas as pd\n",
    "# import numpy as np\n",
    "# import math\n",
    "# import itertools\n",
    "import ast\n",
    "\n",
    "import seaborn as sns\n",
    "# import matplotlib.pyplot as plt\n",
    "# %matplotlib inline\n",
    "\n",
    "# import statsmodels.api as sm\n",
    "import scipy.stats as stats\n",
    "# import statsmodels.formula.api as smf\n",
    "\n",
    "# import time\n",
    "\n",
    "# Import helper files\n",
    "import data_prep as dp\n",
    "# import visualizations as viz\n",
    "import hypothesis_tests as tests\n",
    "\n",
    "%load_ext autoreload\n",
    "%autoreload 2"
   ]
  },
  {
   "cell_type": "markdown",
   "metadata": {},
   "source": [
    "# Obtain Data\n",
    "\n",
    "Games data comes from the site https://www.balldontlie.io/#get-all-games\n",
    "\n",
    "To get data for all seasons, this function took ~12 mins, so I saved the file to csv in the 'data' folder."
   ]
  },
  {
   "cell_type": "code",
   "execution_count": 2,
   "metadata": {
    "ExecuteTime": {
     "end_time": "2020-02-08T17:55:34.232390Z",
     "start_time": "2020-02-08T17:55:34.158587Z"
    }
   },
   "outputs": [],
   "source": [
    "# url = 'https://www.balldontlie.io/api/v1/games'\n",
    "# gamesDataOriginal = dp.getData(url)"
   ]
  },
  {
   "cell_type": "code",
   "execution_count": 3,
   "metadata": {
    "ExecuteTime": {
     "end_time": "2020-02-08T17:55:34.611375Z",
     "start_time": "2020-02-08T17:55:34.536575Z"
    }
   },
   "outputs": [],
   "source": [
    "# gamesDataOriginal.to_csv('data/gamesDataOriginal.csv', index=False)"
   ]
  },
  {
   "cell_type": "code",
   "execution_count": 4,
   "metadata": {
    "ExecuteTime": {
     "end_time": "2020-02-08T17:55:35.815153Z",
     "start_time": "2020-02-08T17:55:35.585768Z"
    }
   },
   "outputs": [
    {
     "data": {
      "text/html": [
       "<div>\n",
       "<style scoped>\n",
       "    .dataframe tbody tr th:only-of-type {\n",
       "        vertical-align: middle;\n",
       "    }\n",
       "\n",
       "    .dataframe tbody tr th {\n",
       "        vertical-align: top;\n",
       "    }\n",
       "\n",
       "    .dataframe thead th {\n",
       "        text-align: right;\n",
       "    }\n",
       "</style>\n",
       "<table border=\"1\" class=\"dataframe\">\n",
       "  <thead>\n",
       "    <tr style=\"text-align: right;\">\n",
       "      <th></th>\n",
       "      <th>id</th>\n",
       "      <th>date</th>\n",
       "      <th>home_team</th>\n",
       "      <th>home_team_score</th>\n",
       "      <th>period</th>\n",
       "      <th>postseason</th>\n",
       "      <th>season</th>\n",
       "      <th>status</th>\n",
       "      <th>time</th>\n",
       "      <th>visitor_team</th>\n",
       "      <th>visitor_team_score</th>\n",
       "    </tr>\n",
       "  </thead>\n",
       "  <tbody>\n",
       "    <tr>\n",
       "      <th>0</th>\n",
       "      <td>47179</td>\n",
       "      <td>2019-01-30T00:00:00.000Z</td>\n",
       "      <td>{'id': 2, 'abbreviation': 'BOS', 'city': 'Bost...</td>\n",
       "      <td>126</td>\n",
       "      <td>4</td>\n",
       "      <td>False</td>\n",
       "      <td>2018</td>\n",
       "      <td>Final</td>\n",
       "      <td></td>\n",
       "      <td>{'id': 4, 'abbreviation': 'CHA', 'city': 'Char...</td>\n",
       "      <td>94</td>\n",
       "    </tr>\n",
       "    <tr>\n",
       "      <th>1</th>\n",
       "      <td>48751</td>\n",
       "      <td>2019-02-09T00:00:00.000Z</td>\n",
       "      <td>{'id': 2, 'abbreviation': 'BOS', 'city': 'Bost...</td>\n",
       "      <td>112</td>\n",
       "      <td>4</td>\n",
       "      <td>False</td>\n",
       "      <td>2018</td>\n",
       "      <td>Final</td>\n",
       "      <td></td>\n",
       "      <td>{'id': 13, 'abbreviation': 'LAC', 'city': 'LA'...</td>\n",
       "      <td>123</td>\n",
       "    </tr>\n",
       "    <tr>\n",
       "      <th>2</th>\n",
       "      <td>48739</td>\n",
       "      <td>2019-02-08T00:00:00.000Z</td>\n",
       "      <td>{'id': 23, 'abbreviation': 'PHI', 'city': 'Phi...</td>\n",
       "      <td>117</td>\n",
       "      <td>4</td>\n",
       "      <td>False</td>\n",
       "      <td>2018</td>\n",
       "      <td>Final</td>\n",
       "      <td></td>\n",
       "      <td>{'id': 8, 'abbreviation': 'DEN', 'city': 'Denv...</td>\n",
       "      <td>110</td>\n",
       "    </tr>\n",
       "    <tr>\n",
       "      <th>3</th>\n",
       "      <td>48740</td>\n",
       "      <td>2019-02-08T00:00:00.000Z</td>\n",
       "      <td>{'id': 30, 'abbreviation': 'WAS', 'city': 'Was...</td>\n",
       "      <td>119</td>\n",
       "      <td>4</td>\n",
       "      <td>False</td>\n",
       "      <td>2018</td>\n",
       "      <td>Final</td>\n",
       "      <td></td>\n",
       "      <td>{'id': 6, 'abbreviation': 'CLE', 'city': 'Clev...</td>\n",
       "      <td>106</td>\n",
       "    </tr>\n",
       "    <tr>\n",
       "      <th>4</th>\n",
       "      <td>48746</td>\n",
       "      <td>2019-02-08T00:00:00.000Z</td>\n",
       "      <td>{'id': 26, 'abbreviation': 'SAC', 'city': 'Sac...</td>\n",
       "      <td>102</td>\n",
       "      <td>4</td>\n",
       "      <td>False</td>\n",
       "      <td>2018</td>\n",
       "      <td>Final</td>\n",
       "      <td></td>\n",
       "      <td>{'id': 16, 'abbreviation': 'MIA', 'city': 'Mia...</td>\n",
       "      <td>96</td>\n",
       "    </tr>\n",
       "  </tbody>\n",
       "</table>\n",
       "</div>"
      ],
      "text/plain": [
       "      id                      date  \\\n",
       "0  47179  2019-01-30T00:00:00.000Z   \n",
       "1  48751  2019-02-09T00:00:00.000Z   \n",
       "2  48739  2019-02-08T00:00:00.000Z   \n",
       "3  48740  2019-02-08T00:00:00.000Z   \n",
       "4  48746  2019-02-08T00:00:00.000Z   \n",
       "\n",
       "                                           home_team  home_team_score  period  \\\n",
       "0  {'id': 2, 'abbreviation': 'BOS', 'city': 'Bost...              126       4   \n",
       "1  {'id': 2, 'abbreviation': 'BOS', 'city': 'Bost...              112       4   \n",
       "2  {'id': 23, 'abbreviation': 'PHI', 'city': 'Phi...              117       4   \n",
       "3  {'id': 30, 'abbreviation': 'WAS', 'city': 'Was...              119       4   \n",
       "4  {'id': 26, 'abbreviation': 'SAC', 'city': 'Sac...              102       4   \n",
       "\n",
       "   postseason  season status   time  \\\n",
       "0       False    2018  Final          \n",
       "1       False    2018  Final          \n",
       "2       False    2018  Final          \n",
       "3       False    2018  Final          \n",
       "4       False    2018  Final          \n",
       "\n",
       "                                        visitor_team  visitor_team_score  \n",
       "0  {'id': 4, 'abbreviation': 'CHA', 'city': 'Char...                  94  \n",
       "1  {'id': 13, 'abbreviation': 'LAC', 'city': 'LA'...                 123  \n",
       "2  {'id': 8, 'abbreviation': 'DEN', 'city': 'Denv...                 110  \n",
       "3  {'id': 6, 'abbreviation': 'CLE', 'city': 'Clev...                 106  \n",
       "4  {'id': 16, 'abbreviation': 'MIA', 'city': 'Mia...                  96  "
      ]
     },
     "execution_count": 4,
     "metadata": {},
     "output_type": "execute_result"
    }
   ],
   "source": [
    "gamesDataOriginal = pd.read_csv('data/gamesDataOriginal.csv')\n",
    "gamesDataOriginal.head()"
   ]
  },
  {
   "cell_type": "markdown",
   "metadata": {
    "ExecuteTime": {
     "end_time": "2020-02-03T14:32:38.736420Z",
     "start_time": "2020-02-03T14:32:38.659627Z"
    }
   },
   "source": [
    "The values in  'home_team' and 'visitor_team' columns are stored in dictionaries. So I will create columns using the dictionary keys, and row values will be the dictionary values."
   ]
  },
  {
   "cell_type": "code",
   "execution_count": 5,
   "metadata": {
    "ExecuteTime": {
     "end_time": "2020-02-08T17:56:08.360062Z",
     "start_time": "2020-02-08T17:56:05.601445Z"
    }
   },
   "outputs": [
    {
     "data": {
      "text/html": [
       "<div>\n",
       "<style scoped>\n",
       "    .dataframe tbody tr th:only-of-type {\n",
       "        vertical-align: middle;\n",
       "    }\n",
       "\n",
       "    .dataframe tbody tr th {\n",
       "        vertical-align: top;\n",
       "    }\n",
       "\n",
       "    .dataframe thead th {\n",
       "        text-align: right;\n",
       "    }\n",
       "</style>\n",
       "<table border=\"1\" class=\"dataframe\">\n",
       "  <thead>\n",
       "    <tr style=\"text-align: right;\">\n",
       "      <th></th>\n",
       "      <th>id</th>\n",
       "      <th>date</th>\n",
       "      <th>home_team_score</th>\n",
       "      <th>period</th>\n",
       "      <th>postseason</th>\n",
       "      <th>season</th>\n",
       "      <th>status</th>\n",
       "      <th>time</th>\n",
       "      <th>visitor_team_score</th>\n",
       "      <th>home_team_id</th>\n",
       "      <th>...</th>\n",
       "      <th>home_team_division</th>\n",
       "      <th>home_team_full_name</th>\n",
       "      <th>home_team_name</th>\n",
       "      <th>visitor_team_id</th>\n",
       "      <th>visitor_team_abbreviation</th>\n",
       "      <th>visitor_team_city</th>\n",
       "      <th>visitor_team_conference</th>\n",
       "      <th>visitor_team_division</th>\n",
       "      <th>visitor_team_full_name</th>\n",
       "      <th>visitor_team_name</th>\n",
       "    </tr>\n",
       "  </thead>\n",
       "  <tbody>\n",
       "    <tr>\n",
       "      <th>0</th>\n",
       "      <td>47179</td>\n",
       "      <td>2019-01-30T00:00:00.000Z</td>\n",
       "      <td>126</td>\n",
       "      <td>4</td>\n",
       "      <td>False</td>\n",
       "      <td>2018</td>\n",
       "      <td>Final</td>\n",
       "      <td></td>\n",
       "      <td>94</td>\n",
       "      <td>2</td>\n",
       "      <td>...</td>\n",
       "      <td>Atlantic</td>\n",
       "      <td>Boston Celtics</td>\n",
       "      <td>Celtics</td>\n",
       "      <td>4</td>\n",
       "      <td>CHA</td>\n",
       "      <td>Charlotte</td>\n",
       "      <td>East</td>\n",
       "      <td>Southeast</td>\n",
       "      <td>Charlotte Hornets</td>\n",
       "      <td>Hornets</td>\n",
       "    </tr>\n",
       "    <tr>\n",
       "      <th>1</th>\n",
       "      <td>48751</td>\n",
       "      <td>2019-02-09T00:00:00.000Z</td>\n",
       "      <td>112</td>\n",
       "      <td>4</td>\n",
       "      <td>False</td>\n",
       "      <td>2018</td>\n",
       "      <td>Final</td>\n",
       "      <td></td>\n",
       "      <td>123</td>\n",
       "      <td>2</td>\n",
       "      <td>...</td>\n",
       "      <td>Atlantic</td>\n",
       "      <td>Boston Celtics</td>\n",
       "      <td>Celtics</td>\n",
       "      <td>13</td>\n",
       "      <td>LAC</td>\n",
       "      <td>LA</td>\n",
       "      <td>West</td>\n",
       "      <td>Pacific</td>\n",
       "      <td>LA Clippers</td>\n",
       "      <td>Clippers</td>\n",
       "    </tr>\n",
       "    <tr>\n",
       "      <th>2</th>\n",
       "      <td>48739</td>\n",
       "      <td>2019-02-08T00:00:00.000Z</td>\n",
       "      <td>117</td>\n",
       "      <td>4</td>\n",
       "      <td>False</td>\n",
       "      <td>2018</td>\n",
       "      <td>Final</td>\n",
       "      <td></td>\n",
       "      <td>110</td>\n",
       "      <td>23</td>\n",
       "      <td>...</td>\n",
       "      <td>Atlantic</td>\n",
       "      <td>Philadelphia 76ers</td>\n",
       "      <td>76ers</td>\n",
       "      <td>8</td>\n",
       "      <td>DEN</td>\n",
       "      <td>Denver</td>\n",
       "      <td>West</td>\n",
       "      <td>Northwest</td>\n",
       "      <td>Denver Nuggets</td>\n",
       "      <td>Nuggets</td>\n",
       "    </tr>\n",
       "    <tr>\n",
       "      <th>3</th>\n",
       "      <td>48740</td>\n",
       "      <td>2019-02-08T00:00:00.000Z</td>\n",
       "      <td>119</td>\n",
       "      <td>4</td>\n",
       "      <td>False</td>\n",
       "      <td>2018</td>\n",
       "      <td>Final</td>\n",
       "      <td></td>\n",
       "      <td>106</td>\n",
       "      <td>30</td>\n",
       "      <td>...</td>\n",
       "      <td>Southeast</td>\n",
       "      <td>Washington Wizards</td>\n",
       "      <td>Wizards</td>\n",
       "      <td>6</td>\n",
       "      <td>CLE</td>\n",
       "      <td>Cleveland</td>\n",
       "      <td>East</td>\n",
       "      <td>Central</td>\n",
       "      <td>Cleveland Cavaliers</td>\n",
       "      <td>Cavaliers</td>\n",
       "    </tr>\n",
       "    <tr>\n",
       "      <th>4</th>\n",
       "      <td>48746</td>\n",
       "      <td>2019-02-08T00:00:00.000Z</td>\n",
       "      <td>102</td>\n",
       "      <td>4</td>\n",
       "      <td>False</td>\n",
       "      <td>2018</td>\n",
       "      <td>Final</td>\n",
       "      <td></td>\n",
       "      <td>96</td>\n",
       "      <td>26</td>\n",
       "      <td>...</td>\n",
       "      <td>Pacific</td>\n",
       "      <td>Sacramento Kings</td>\n",
       "      <td>Kings</td>\n",
       "      <td>16</td>\n",
       "      <td>MIA</td>\n",
       "      <td>Miami</td>\n",
       "      <td>East</td>\n",
       "      <td>Southeast</td>\n",
       "      <td>Miami Heat</td>\n",
       "      <td>Heat</td>\n",
       "    </tr>\n",
       "  </tbody>\n",
       "</table>\n",
       "<p>5 rows × 23 columns</p>\n",
       "</div>"
      ],
      "text/plain": [
       "      id                      date  home_team_score  period  postseason  \\\n",
       "0  47179  2019-01-30T00:00:00.000Z              126       4       False   \n",
       "1  48751  2019-02-09T00:00:00.000Z              112       4       False   \n",
       "2  48739  2019-02-08T00:00:00.000Z              117       4       False   \n",
       "3  48740  2019-02-08T00:00:00.000Z              119       4       False   \n",
       "4  48746  2019-02-08T00:00:00.000Z              102       4       False   \n",
       "\n",
       "   season status   time  visitor_team_score  home_team_id  ...  \\\n",
       "0    2018  Final                         94             2  ...   \n",
       "1    2018  Final                        123             2  ...   \n",
       "2    2018  Final                        110            23  ...   \n",
       "3    2018  Final                        106            30  ...   \n",
       "4    2018  Final                         96            26  ...   \n",
       "\n",
       "  home_team_division home_team_full_name home_team_name visitor_team_id  \\\n",
       "0           Atlantic      Boston Celtics        Celtics               4   \n",
       "1           Atlantic      Boston Celtics        Celtics              13   \n",
       "2           Atlantic  Philadelphia 76ers          76ers               8   \n",
       "3          Southeast  Washington Wizards        Wizards               6   \n",
       "4            Pacific    Sacramento Kings          Kings              16   \n",
       "\n",
       "  visitor_team_abbreviation visitor_team_city  visitor_team_conference  \\\n",
       "0                       CHA         Charlotte                     East   \n",
       "1                       LAC                LA                     West   \n",
       "2                       DEN            Denver                     West   \n",
       "3                       CLE         Cleveland                     East   \n",
       "4                       MIA             Miami                     East   \n",
       "\n",
       "  visitor_team_division visitor_team_full_name visitor_team_name  \n",
       "0             Southeast      Charlotte Hornets           Hornets  \n",
       "1               Pacific            LA Clippers          Clippers  \n",
       "2             Northwest         Denver Nuggets           Nuggets  \n",
       "3               Central    Cleveland Cavaliers         Cavaliers  \n",
       "4             Southeast             Miami Heat              Heat  \n",
       "\n",
       "[5 rows x 23 columns]"
      ]
     },
     "execution_count": 5,
     "metadata": {},
     "output_type": "execute_result"
    }
   ],
   "source": [
    "columnDictList = ['home_team', 'visitor_team']\n",
    "gamesData = gamesDataOriginal.copy()\n",
    "\n",
    "# In case you read in csv, dictionary is stored as a string\n",
    "# So we have to convert it back to dictionary\n",
    "for column in columnDictList:\n",
    "    gamesData[column] = gamesData[column].apply(lambda x: ast.literal_eval(x))\n",
    "\n",
    "# 'Split' out dictionary-like columns\n",
    "gamesData = dp.convertDictColumns(gamesData, columnDictList)\n",
    "\n",
    "# Remove the original dictionary-like columns\n",
    "gamesData.drop(columns=columnDictList, inplace=True)\n",
    "gamesData.head()"
   ]
  },
  {
   "cell_type": "markdown",
   "metadata": {},
   "source": [
    "# Statistical Tests"
   ]
  },
  {
   "cell_type": "markdown",
   "metadata": {},
   "source": [
    "## Has Scoring Increased Over Time?\n",
    "\n",
    "I'd like to run a test to determine if the league as a whole has scored more points in games year-over-year. To do so, I'll do the following:\n",
    "\n",
    "1. [Define the Test](#Define-Test)\n",
    "2. [Create the Appropriate Dataframe](#Create-Dataframe)\n",
    "3. [Check Assumptions for Test](#Check-Assumptions)\n",
    "4. Run test"
   ]
  },
  {
   "cell_type": "markdown",
   "metadata": {},
   "source": [
    "### Define the Test\n",
    "[back to test](#Has-Scoring-Increased-Over-Time?)\n",
    "\n",
    "Let $\\mu_t$ represent the average score by all teams in year *t*, where *t* is in a predefined range [$t_{min}$, $t_{max}$]\n",
    "\n",
    "So our hypotheses are:\n",
    "\n",
    "Null hypothesis $H_0$: $\\mu_t$ = $\\mu_{t-1}$, there is no difference in overall points scored between years *t* and *t-1*\n",
    "\n",
    "Alternative hypothesis $H_A$: $\\mu_t$ != $\\mu_{t-1}$, there is a significant difference in overal points scored between years *t* and *t-1*\n",
    "\n",
    "This will be a series of t-tests, which each test comprising of 2 successive seasons (ex. 2013 and 2014, 2014 and 2015, etc.)\n",
    "\n",
    "Let $p$ = probability that I get a\n",
    "\n",
    "I will set my $\\alpha$ = 0.05, so I will reject $H_0$ if I get a p-value less than $\\alpha$. \n",
    "\n",
    "In other words, *\"given that my null hypothesis is true, the "
   ]
  },
  {
   "cell_type": "markdown",
   "metadata": {},
   "source": [
    "### Create Dataframe\n",
    "\n",
    "My score columns are split into 'home_team_score' and 'visitor_team_score'. I want to recreate my dataframe so that the scores (and any 'similar' columns are combined into one. I made a function to do so. \n",
    "\n",
    "I'll filter my dataframe to only look at games from 2013 to 2018 season.\n",
    "\n",
    "To make sure that I'm comparing the same 'games', I'll only look at games that had 4 periods. This way, I'm excluding any overtime games in which teams have more time to score more points."
   ]
  },
  {
   "cell_type": "code",
   "execution_count": 4,
   "metadata": {
    "ExecuteTime": {
     "end_time": "2020-02-07T14:25:27.107446Z",
     "start_time": "2020-02-07T14:25:26.874069Z"
    }
   },
   "outputs": [],
   "source": [
    "gamesDataLong = dp.makeLongDF(gamesData)\n",
    "\n",
    "# Filter for period range\n",
    "t_min = 2013\n",
    "t_max = 2018\n",
    "gamesDataLong = gamesDataLong.loc[(gamesDataLong['season']>=t_min)&(gamesDataLong['season']<=t_max)]\n",
    "\n",
    "# Filter for 4 period games\n",
    "gamesDataLong = gamesDataLong.loc[gamesDataLong['period']==4]"
   ]
  },
  {
   "cell_type": "markdown",
   "metadata": {},
   "source": [
    "To verify that the data was split and concatenated appropriately, let's take a game id. When I filter for a game id, I should get 1 row returned from original dataframe and 2 rows returned from the new long dataframe."
   ]
  },
  {
   "cell_type": "code",
   "execution_count": 5,
   "metadata": {
    "ExecuteTime": {
     "end_time": "2020-02-07T14:25:29.089174Z",
     "start_time": "2020-02-07T14:25:29.006397Z"
    }
   },
   "outputs": [
    {
     "data": {
      "text/html": [
       "<div>\n",
       "<style scoped>\n",
       "    .dataframe tbody tr th:only-of-type {\n",
       "        vertical-align: middle;\n",
       "    }\n",
       "\n",
       "    .dataframe tbody tr th {\n",
       "        vertical-align: top;\n",
       "    }\n",
       "\n",
       "    .dataframe thead th {\n",
       "        text-align: right;\n",
       "    }\n",
       "</style>\n",
       "<table border=\"1\" class=\"dataframe\">\n",
       "  <thead>\n",
       "    <tr style=\"text-align: right;\">\n",
       "      <th></th>\n",
       "      <th>id</th>\n",
       "      <th>home_team_name</th>\n",
       "      <th>home_team_score</th>\n",
       "      <th>visitor_team_name</th>\n",
       "      <th>visitor_team_score</th>\n",
       "    </tr>\n",
       "  </thead>\n",
       "  <tbody>\n",
       "    <tr>\n",
       "      <th>0</th>\n",
       "      <td>47179</td>\n",
       "      <td>Celtics</td>\n",
       "      <td>126</td>\n",
       "      <td>Hornets</td>\n",
       "      <td>94</td>\n",
       "    </tr>\n",
       "  </tbody>\n",
       "</table>\n",
       "</div>"
      ],
      "text/plain": [
       "      id home_team_name  home_team_score visitor_team_name  visitor_team_score\n",
       "0  47179        Celtics              126           Hornets                  94"
      ]
     },
     "execution_count": 5,
     "metadata": {},
     "output_type": "execute_result"
    }
   ],
   "source": [
    "gamesData.loc[gamesData['id']==47179, ['id', 'home_team_name', 'home_team_score', 'visitor_team_name', 'visitor_team_score']]"
   ]
  },
  {
   "cell_type": "code",
   "execution_count": 6,
   "metadata": {
    "ExecuteTime": {
     "end_time": "2020-02-07T14:25:29.592827Z",
     "start_time": "2020-02-07T14:25:29.506060Z"
    }
   },
   "outputs": [
    {
     "data": {
      "text/html": [
       "<div>\n",
       "<style scoped>\n",
       "    .dataframe tbody tr th:only-of-type {\n",
       "        vertical-align: middle;\n",
       "    }\n",
       "\n",
       "    .dataframe tbody tr th {\n",
       "        vertical-align: top;\n",
       "    }\n",
       "\n",
       "    .dataframe thead th {\n",
       "        text-align: right;\n",
       "    }\n",
       "</style>\n",
       "<table border=\"1\" class=\"dataframe\">\n",
       "  <thead>\n",
       "    <tr style=\"text-align: right;\">\n",
       "      <th></th>\n",
       "      <th>id</th>\n",
       "      <th>team_name</th>\n",
       "      <th>team_score</th>\n",
       "    </tr>\n",
       "  </thead>\n",
       "  <tbody>\n",
       "    <tr>\n",
       "      <th>0</th>\n",
       "      <td>47179</td>\n",
       "      <td>Celtics</td>\n",
       "      <td>126</td>\n",
       "    </tr>\n",
       "    <tr>\n",
       "      <th>0</th>\n",
       "      <td>47179</td>\n",
       "      <td>Hornets</td>\n",
       "      <td>94</td>\n",
       "    </tr>\n",
       "  </tbody>\n",
       "</table>\n",
       "</div>"
      ],
      "text/plain": [
       "      id team_name  team_score\n",
       "0  47179   Celtics         126\n",
       "0  47179   Hornets          94"
      ]
     },
     "execution_count": 6,
     "metadata": {},
     "output_type": "execute_result"
    }
   ],
   "source": [
    "gamesDataLong.loc[gamesData['id']==47179, ['id', 'team_name', 'team_score']]"
   ]
  },
  {
   "cell_type": "markdown",
   "metadata": {},
   "source": [
    "Let's look at some descriptive stats for the new dataframe"
   ]
  },
  {
   "cell_type": "code",
   "execution_count": 7,
   "metadata": {
    "ExecuteTime": {
     "end_time": "2020-02-07T14:25:32.684621Z",
     "start_time": "2020-02-07T14:25:32.571924Z"
    }
   },
   "outputs": [
    {
     "data": {
      "text/html": [
       "<div>\n",
       "<style scoped>\n",
       "    .dataframe tbody tr th:only-of-type {\n",
       "        vertical-align: middle;\n",
       "    }\n",
       "\n",
       "    .dataframe tbody tr th {\n",
       "        vertical-align: top;\n",
       "    }\n",
       "\n",
       "    .dataframe thead th {\n",
       "        text-align: right;\n",
       "    }\n",
       "</style>\n",
       "<table border=\"1\" class=\"dataframe\">\n",
       "  <thead>\n",
       "    <tr style=\"text-align: right;\">\n",
       "      <th></th>\n",
       "      <th>count</th>\n",
       "      <th>mean</th>\n",
       "      <th>std</th>\n",
       "      <th>min</th>\n",
       "      <th>25%</th>\n",
       "      <th>50%</th>\n",
       "      <th>75%</th>\n",
       "      <th>max</th>\n",
       "    </tr>\n",
       "    <tr>\n",
       "      <th>season</th>\n",
       "      <th></th>\n",
       "      <th></th>\n",
       "      <th></th>\n",
       "      <th></th>\n",
       "      <th></th>\n",
       "      <th></th>\n",
       "      <th></th>\n",
       "      <th></th>\n",
       "    </tr>\n",
       "  </thead>\n",
       "  <tbody>\n",
       "    <tr>\n",
       "      <th>2013</th>\n",
       "      <td>2638.0</td>\n",
       "      <td>100.910159</td>\n",
       "      <td>11.856584</td>\n",
       "      <td>63.0</td>\n",
       "      <td>93.0</td>\n",
       "      <td>101.0</td>\n",
       "      <td>109.0</td>\n",
       "      <td>145.0</td>\n",
       "    </tr>\n",
       "    <tr>\n",
       "      <th>2014</th>\n",
       "      <td>2622.0</td>\n",
       "      <td>100.047292</td>\n",
       "      <td>11.765905</td>\n",
       "      <td>65.0</td>\n",
       "      <td>92.0</td>\n",
       "      <td>100.0</td>\n",
       "      <td>107.0</td>\n",
       "      <td>144.0</td>\n",
       "    </tr>\n",
       "    <tr>\n",
       "      <th>2015</th>\n",
       "      <td>2632.0</td>\n",
       "      <td>102.485562</td>\n",
       "      <td>11.827203</td>\n",
       "      <td>68.0</td>\n",
       "      <td>94.0</td>\n",
       "      <td>102.0</td>\n",
       "      <td>111.0</td>\n",
       "      <td>147.0</td>\n",
       "    </tr>\n",
       "    <tr>\n",
       "      <th>2016</th>\n",
       "      <td>2618.0</td>\n",
       "      <td>105.618029</td>\n",
       "      <td>12.165714</td>\n",
       "      <td>64.0</td>\n",
       "      <td>97.0</td>\n",
       "      <td>106.0</td>\n",
       "      <td>114.0</td>\n",
       "      <td>149.0</td>\n",
       "    </tr>\n",
       "    <tr>\n",
       "      <th>2017</th>\n",
       "      <td>2624.0</td>\n",
       "      <td>106.215320</td>\n",
       "      <td>12.037515</td>\n",
       "      <td>69.0</td>\n",
       "      <td>98.0</td>\n",
       "      <td>106.0</td>\n",
       "      <td>114.0</td>\n",
       "      <td>149.0</td>\n",
       "    </tr>\n",
       "    <tr>\n",
       "      <th>2018</th>\n",
       "      <td>2570.0</td>\n",
       "      <td>110.580156</td>\n",
       "      <td>12.383831</td>\n",
       "      <td>68.0</td>\n",
       "      <td>102.0</td>\n",
       "      <td>111.0</td>\n",
       "      <td>119.0</td>\n",
       "      <td>154.0</td>\n",
       "    </tr>\n",
       "  </tbody>\n",
       "</table>\n",
       "</div>"
      ],
      "text/plain": [
       "         count        mean        std   min    25%    50%    75%    max\n",
       "season                                                                 \n",
       "2013    2638.0  100.910159  11.856584  63.0   93.0  101.0  109.0  145.0\n",
       "2014    2622.0  100.047292  11.765905  65.0   92.0  100.0  107.0  144.0\n",
       "2015    2632.0  102.485562  11.827203  68.0   94.0  102.0  111.0  147.0\n",
       "2016    2618.0  105.618029  12.165714  64.0   97.0  106.0  114.0  149.0\n",
       "2017    2624.0  106.215320  12.037515  69.0   98.0  106.0  114.0  149.0\n",
       "2018    2570.0  110.580156  12.383831  68.0  102.0  111.0  119.0  154.0"
      ]
     },
     "execution_count": 7,
     "metadata": {},
     "output_type": "execute_result"
    }
   ],
   "source": [
    "gamesDataLong.groupby('season')['team_score'].describe()"
   ]
  },
  {
   "cell_type": "code",
   "execution_count": 8,
   "metadata": {
    "ExecuteTime": {
     "end_time": "2020-02-07T14:25:34.793544Z",
     "start_time": "2020-02-07T14:25:34.477378Z"
    }
   },
   "outputs": [
    {
     "data": {
      "image/png": "[encoded data removed]",
      "text/plain": [
       "<Figure size 432x288 with 1 Axes>"
      ]
     },
     "metadata": {
      "needs_background": "light"
     },
     "output_type": "display_data"
    }
   ],
   "source": [
    "xCol='season'\n",
    "yCol='team_score'\n",
    "\n",
    "fig = sns.boxplot(x=xCol, y=yCol, data=gamesDataLong)\n",
    "\n",
    "# Clean column names for title and labels\n",
    "xLabel = xCol.replace('_',' ').strip().title()\n",
    "yLabel = yCol.replace('_',' ').strip().title()\n",
    "\n",
    "fig.set_xlabel('')\n",
    "fig.set_ylabel('')\n",
    "fig.set_title(f\"{yLabel} by {xLabel}\");"
   ]
  },
  {
   "cell_type": "markdown",
   "metadata": {},
   "source": [
    "There seems to be an overall upward trend in points scored, but we'll have to defer to the test results to determine this."
   ]
  },
  {
   "cell_type": "markdown",
   "metadata": {},
   "source": [
    "### Check Assumptions"
   ]
  },
  {
   "cell_type": "markdown",
   "metadata": {},
   "source": [
    "#### Homogeneity of Variances Between Seasons\n",
    "\n",
    "Are variances in scores among seasons the same? From the descriptive stats, it looks like the standard deviations for all seasons are roughly the same, but we'll confirm this using the [Levene test](https://docs.scipy.org/doc/scipy-0.14.0/reference/generated/scipy.stats.levene.html).\n",
    "\n",
    "For each pair of successive seasons, I have a null hypothesis that the variances are equal. If I obtain a p-value less than 0.05, then I'll reject this hypothesis."
   ]
  },
  {
   "cell_type": "code",
   "execution_count": 9,
   "metadata": {
    "ExecuteTime": {
     "end_time": "2020-02-07T14:25:46.505148Z",
     "start_time": "2020-02-07T14:25:46.418381Z"
    }
   },
   "outputs": [
    {
     "name": "stdout",
     "output_type": "stream",
     "text": [
      "Between seasons 2013 and 2014, p-value is 0.44, so variances are the same\n",
      "Between seasons 2014 and 2015, p-value is 0.5, so variances are the same\n",
      "Between seasons 2015 and 2016, p-value is 0.24, so variances are the same\n",
      "Between seasons 2016 and 2017, p-value is 0.98, so variances are the same\n",
      "Between seasons 2017 and 2018, p-value is 0.34, so variances are the same\n"
     ]
    },
    {
     "name": "stderr",
     "output_type": "stream",
     "text": [
      "C:\\Users\\anees\\AppData\\Local\\Continuum\\anaconda3\\lib\\site-packages\\ipykernel_launcher.py:9: DeprecationWarning: In future, it will be an error for 'np.bool_' scalars to be interpreted as an index\n",
      "  if __name__ == '__main__':\n"
     ]
    }
   ],
   "source": [
    "alpha=0.05\n",
    "\n",
    "for season in range(t_min, t_max):\n",
    "\n",
    "    # Each stats test produces a tuple(test-statistic, p-value)\n",
    "    # We're interested in the p-value\n",
    "    p_value = stats.levene(*(gamesDataLong.loc[gamesDataLong['season']==season, 'team_score'] for season in (season, season+1)))[1] \n",
    "    \n",
    "    print(f\"Between seasons {season} and {season+1}, p-value is {round(p_value, 2)}, so variances are{' NOT'*(p_value < alpha)} the same\")"
   ]
  },
  {
   "cell_type": "markdown",
   "metadata": {},
   "source": [
    "Each pair of seasons hs the same variance, so I can proceed."
   ]
  },
  {
   "cell_type": "markdown",
   "metadata": {},
   "source": [
    "#### Distribution of Residuals Between Seasons\n",
    "\n",
    "Residuals between seasons should be normally distributed."
   ]
  },
  {
   "cell_type": "code",
   "execution_count": 106,
   "metadata": {
    "ExecuteTime": {
     "end_time": "2020-02-06T14:47:31.415745Z",
     "start_time": "2020-02-06T14:47:31.178370Z"
    }
   },
   "outputs": [
    {
     "name": "stdout",
     "output_type": "stream",
     "text": [
      "0.0028943398501724005\n"
     ]
    },
    {
     "data": {
      "image/png": "[encoded data removed]",
      "text/plain": [
       "<Figure size 432x288 with 1 Axes>"
      ]
     },
     "metadata": {
      "needs_background": "light"
     },
     "output_type": "display_data"
    }
   ],
   "source": [
    "season = 2018\n",
    "data = gamesDataLong.loc[gamesDataLong['season']==season, 'team_score']\n",
    "sns.distplot(data)\n",
    "print(stats.shapiro(data)[1])"
   ]
  },
  {
   "cell_type": "markdown",
   "metadata": {},
   "source": [
    "#### Test"
   ]
  },
  {
   "cell_type": "code",
   "execution_count": 14,
   "metadata": {
    "ExecuteTime": {
     "end_time": "2020-02-07T14:33:30.136249Z",
     "start_time": "2020-02-07T14:33:30.053965Z"
    }
   },
   "outputs": [
    {
     "name": "stdout",
     "output_type": "stream",
     "text": [
      "(2013, 2014): Ttest_indResult(statistic=2.6491151108885598, pvalue=0.008094416132709992)\n",
      "(2014, 2015): Ttest_indResult(statistic=-7.490956961340492, pvalue=7.97647541162849e-14)\n",
      "(2015, 2016): Ttest_indResult(statistic=-9.459205237490416, pvalue=4.562453451948647e-21)\n",
      "(2016, 2017): Ttest_indResult(statistic=-1.786724084670686, pvalue=0.07403988485626768)\n",
      "(2017, 2018): Ttest_indResult(statistic=-12.880898698405813, pvalue=2.1447675024320503e-37)\n"
     ]
    }
   ],
   "source": [
    "for season in range(t_min, t_max):\n",
    "\n",
    "    # Each stats test produces a tuple(test-statistic, p-value)\n",
    "    # We're interested in the p-value\n",
    "    print(f\"{season, season+1}: {stats.ttest_ind(gamesDataLong.loc[gamesDataLong['season']==season, 'team_score'], gamesDataLong.loc[gamesDataLong['season']==(season+1), 'team_score'])}\")\n",
    "#     p_value = stats.ttest_ind(*(gamesDataLong.loc[gamesDataLong['season']==season, 'team_score'] for season in (season, season+1)))[1] \n",
    "#     print(f\"Between seasons {season} and {season+1}, p-value is {round(p_value, 2)}, so{' fail to'*(p_value > alpha)} reject the null hypothesis\")"
   ]
  },
  {
   "cell_type": "markdown",
   "metadata": {},
   "source": [
    "## Do Teams Have Home Court Advantage?\n",
    "\n",
    "Do certain teams win by a larger margin when playing on home court? Once again, I'll\n",
    "\n",
    "1. Define the test\n",
    "2. Create the appropriate dataframe\n",
    "3. Check assumptions\n",
    "4. Run test"
   ]
  },
  {
   "cell_type": "markdown",
   "metadata": {},
   "source": [
    "### Define the Test\n",
    "\n",
    "Let $d_i$ be the average score differential of team *i*, where *i* ranges from *1,...,n*. So our hypotheses are:\n",
    "\n",
    "Null hypothesis $H_0$: $d_1$=$d_2$ =...=$d_n$=0, no team has a significant home court advantage\n",
    "\n",
    "Alternative hypothesis $H_A$: at least one $d_i$ is different, there exists at least 1 team with a significant home court advantage\n",
    "\n",
    "If $H_0$ is rejected, then I will conduct a t-test to determine which team"
   ]
  },
  {
   "cell_type": "markdown",
   "metadata": {},
   "source": [
    "### Create DataFrame\n",
    "\n",
    "\n",
    "I'll take the original dataframe, and create a column by taking the difference in home team score and visitor team score. I'll filter for a particlar season"
   ]
  },
  {
   "cell_type": "code",
   "execution_count": 15,
   "metadata": {
    "ExecuteTime": {
     "end_time": "2020-02-07T14:33:51.425647Z",
     "start_time": "2020-02-07T14:33:51.306963Z"
    }
   },
   "outputs": [],
   "source": [
    "gamesDataHome = gamesData.copy()\n",
    "\n",
    "# Create column\n",
    "gamesDataHome['home_diff'] = gamesDataHome['home_team_score'] - gamesDataHome['visitor_team_score']\n",
    "\n",
    "# Filter for season\n",
    "gamesDataHome = gamesDataHome.loc[gamesDataHome['season']==2018]"
   ]
  },
  {
   "cell_type": "code",
   "execution_count": 16,
   "metadata": {
    "ExecuteTime": {
     "end_time": "2020-02-07T14:33:52.717221Z",
     "start_time": "2020-02-07T14:33:52.633446Z"
    }
   },
   "outputs": [
    {
     "data": {
      "text/html": [
       "<div>\n",
       "<style scoped>\n",
       "    .dataframe tbody tr th:only-of-type {\n",
       "        vertical-align: middle;\n",
       "    }\n",
       "\n",
       "    .dataframe tbody tr th {\n",
       "        vertical-align: top;\n",
       "    }\n",
       "\n",
       "    .dataframe thead th {\n",
       "        text-align: right;\n",
       "    }\n",
       "</style>\n",
       "<table border=\"1\" class=\"dataframe\">\n",
       "  <thead>\n",
       "    <tr style=\"text-align: right;\">\n",
       "      <th></th>\n",
       "      <th>id</th>\n",
       "      <th>date</th>\n",
       "      <th>home_team_name</th>\n",
       "      <th>home_team_score</th>\n",
       "      <th>visitor_team_name</th>\n",
       "      <th>visitor_team_score</th>\n",
       "      <th>home_diff</th>\n",
       "    </tr>\n",
       "  </thead>\n",
       "  <tbody>\n",
       "    <tr>\n",
       "      <th>0</th>\n",
       "      <td>47179</td>\n",
       "      <td>2019-01-30T00:00:00.000Z</td>\n",
       "      <td>Celtics</td>\n",
       "      <td>126</td>\n",
       "      <td>Hornets</td>\n",
       "      <td>94</td>\n",
       "      <td>32</td>\n",
       "    </tr>\n",
       "    <tr>\n",
       "      <th>1</th>\n",
       "      <td>48751</td>\n",
       "      <td>2019-02-09T00:00:00.000Z</td>\n",
       "      <td>Celtics</td>\n",
       "      <td>112</td>\n",
       "      <td>Clippers</td>\n",
       "      <td>123</td>\n",
       "      <td>-11</td>\n",
       "    </tr>\n",
       "    <tr>\n",
       "      <th>2</th>\n",
       "      <td>48739</td>\n",
       "      <td>2019-02-08T00:00:00.000Z</td>\n",
       "      <td>76ers</td>\n",
       "      <td>117</td>\n",
       "      <td>Nuggets</td>\n",
       "      <td>110</td>\n",
       "      <td>7</td>\n",
       "    </tr>\n",
       "    <tr>\n",
       "      <th>3</th>\n",
       "      <td>48740</td>\n",
       "      <td>2019-02-08T00:00:00.000Z</td>\n",
       "      <td>Wizards</td>\n",
       "      <td>119</td>\n",
       "      <td>Cavaliers</td>\n",
       "      <td>106</td>\n",
       "      <td>13</td>\n",
       "    </tr>\n",
       "    <tr>\n",
       "      <th>4</th>\n",
       "      <td>48746</td>\n",
       "      <td>2019-02-08T00:00:00.000Z</td>\n",
       "      <td>Kings</td>\n",
       "      <td>102</td>\n",
       "      <td>Heat</td>\n",
       "      <td>96</td>\n",
       "      <td>6</td>\n",
       "    </tr>\n",
       "  </tbody>\n",
       "</table>\n",
       "</div>"
      ],
      "text/plain": [
       "      id                      date home_team_name  home_team_score  \\\n",
       "0  47179  2019-01-30T00:00:00.000Z        Celtics              126   \n",
       "1  48751  2019-02-09T00:00:00.000Z        Celtics              112   \n",
       "2  48739  2019-02-08T00:00:00.000Z          76ers              117   \n",
       "3  48740  2019-02-08T00:00:00.000Z        Wizards              119   \n",
       "4  48746  2019-02-08T00:00:00.000Z          Kings              102   \n",
       "\n",
       "  visitor_team_name  visitor_team_score  home_diff  \n",
       "0           Hornets                  94         32  \n",
       "1          Clippers                 123        -11  \n",
       "2           Nuggets                 110          7  \n",
       "3         Cavaliers                 106         13  \n",
       "4              Heat                  96          6  "
      ]
     },
     "execution_count": 16,
     "metadata": {},
     "output_type": "execute_result"
    }
   ],
   "source": [
    "gamesDataHome.loc[:,['id', 'date', 'home_team_name', 'home_team_score', 'visitor_team_name', 'visitor_team_score', 'home_diff']].head()"
   ]
  },
  {
   "cell_type": "code",
   "execution_count": 17,
   "metadata": {
    "ExecuteTime": {
     "end_time": "2020-02-07T14:33:54.980724Z",
     "start_time": "2020-02-07T14:33:54.852068Z"
    }
   },
   "outputs": [
    {
     "data": {
      "text/html": [
       "<div>\n",
       "<style scoped>\n",
       "    .dataframe tbody tr th:only-of-type {\n",
       "        vertical-align: middle;\n",
       "    }\n",
       "\n",
       "    .dataframe tbody tr th {\n",
       "        vertical-align: top;\n",
       "    }\n",
       "\n",
       "    .dataframe thead th {\n",
       "        text-align: right;\n",
       "    }\n",
       "</style>\n",
       "<table border=\"1\" class=\"dataframe\">\n",
       "  <thead>\n",
       "    <tr style=\"text-align: right;\">\n",
       "      <th></th>\n",
       "      <th>count</th>\n",
       "      <th>mean</th>\n",
       "      <th>std</th>\n",
       "      <th>min</th>\n",
       "      <th>25%</th>\n",
       "      <th>50%</th>\n",
       "      <th>75%</th>\n",
       "      <th>max</th>\n",
       "    </tr>\n",
       "    <tr>\n",
       "      <th>home_team_name</th>\n",
       "      <th></th>\n",
       "      <th></th>\n",
       "      <th></th>\n",
       "      <th></th>\n",
       "      <th></th>\n",
       "      <th></th>\n",
       "      <th></th>\n",
       "      <th></th>\n",
       "    </tr>\n",
       "  </thead>\n",
       "  <tbody>\n",
       "    <tr>\n",
       "      <th>76ers</th>\n",
       "      <td>47.0</td>\n",
       "      <td>8.319149</td>\n",
       "      <td>12.460558</td>\n",
       "      <td>-15.0</td>\n",
       "      <td>-0.50</td>\n",
       "      <td>7.0</td>\n",
       "      <td>18.00</td>\n",
       "      <td>42.0</td>\n",
       "    </tr>\n",
       "    <tr>\n",
       "      <th>Bucks</th>\n",
       "      <td>49.0</td>\n",
       "      <td>12.224490</td>\n",
       "      <td>14.237956</td>\n",
       "      <td>-22.0</td>\n",
       "      <td>6.00</td>\n",
       "      <td>14.0</td>\n",
       "      <td>21.00</td>\n",
       "      <td>43.0</td>\n",
       "    </tr>\n",
       "    <tr>\n",
       "      <th>Bulls</th>\n",
       "      <td>41.0</td>\n",
       "      <td>-9.804878</td>\n",
       "      <td>13.946719</td>\n",
       "      <td>-56.0</td>\n",
       "      <td>-19.00</td>\n",
       "      <td>-7.0</td>\n",
       "      <td>-1.00</td>\n",
       "      <td>12.0</td>\n",
       "    </tr>\n",
       "    <tr>\n",
       "      <th>Cavaliers</th>\n",
       "      <td>41.0</td>\n",
       "      <td>-7.341463</td>\n",
       "      <td>15.650255</td>\n",
       "      <td>-36.0</td>\n",
       "      <td>-19.00</td>\n",
       "      <td>-9.0</td>\n",
       "      <td>5.00</td>\n",
       "      <td>25.0</td>\n",
       "    </tr>\n",
       "    <tr>\n",
       "      <th>Celtics</th>\n",
       "      <td>45.0</td>\n",
       "      <td>6.155556</td>\n",
       "      <td>13.249281</td>\n",
       "      <td>-19.0</td>\n",
       "      <td>-5.00</td>\n",
       "      <td>7.0</td>\n",
       "      <td>13.00</td>\n",
       "      <td>33.0</td>\n",
       "    </tr>\n",
       "    <tr>\n",
       "      <th>Clippers</th>\n",
       "      <td>44.0</td>\n",
       "      <td>1.818182</td>\n",
       "      <td>15.658080</td>\n",
       "      <td>-32.0</td>\n",
       "      <td>-6.50</td>\n",
       "      <td>4.5</td>\n",
       "      <td>11.75</td>\n",
       "      <td>32.0</td>\n",
       "    </tr>\n",
       "    <tr>\n",
       "      <th>Grizzlies</th>\n",
       "      <td>41.0</td>\n",
       "      <td>0.439024</td>\n",
       "      <td>10.124349</td>\n",
       "      <td>-23.0</td>\n",
       "      <td>-8.00</td>\n",
       "      <td>1.0</td>\n",
       "      <td>9.00</td>\n",
       "      <td>21.0</td>\n",
       "    </tr>\n",
       "    <tr>\n",
       "      <th>Hawks</th>\n",
       "      <td>41.0</td>\n",
       "      <td>-4.024390</td>\n",
       "      <td>12.424749</td>\n",
       "      <td>-31.0</td>\n",
       "      <td>-15.00</td>\n",
       "      <td>-5.0</td>\n",
       "      <td>5.00</td>\n",
       "      <td>24.0</td>\n",
       "    </tr>\n",
       "    <tr>\n",
       "      <th>Heat</th>\n",
       "      <td>41.0</td>\n",
       "      <td>0.243902</td>\n",
       "      <td>13.992463</td>\n",
       "      <td>-23.0</td>\n",
       "      <td>-10.00</td>\n",
       "      <td>-2.0</td>\n",
       "      <td>7.00</td>\n",
       "      <td>34.0</td>\n",
       "    </tr>\n",
       "    <tr>\n",
       "      <th>Hornets</th>\n",
       "      <td>41.0</td>\n",
       "      <td>3.682927</td>\n",
       "      <td>13.543336</td>\n",
       "      <td>-38.0</td>\n",
       "      <td>-4.00</td>\n",
       "      <td>5.0</td>\n",
       "      <td>12.00</td>\n",
       "      <td>32.0</td>\n",
       "    </tr>\n",
       "    <tr>\n",
       "      <th>Jazz</th>\n",
       "      <td>43.0</td>\n",
       "      <td>7.790698</td>\n",
       "      <td>15.386386</td>\n",
       "      <td>-33.0</td>\n",
       "      <td>-2.00</td>\n",
       "      <td>8.0</td>\n",
       "      <td>17.00</td>\n",
       "      <td>34.0</td>\n",
       "    </tr>\n",
       "    <tr>\n",
       "      <th>Kings</th>\n",
       "      <td>41.0</td>\n",
       "      <td>1.439024</td>\n",
       "      <td>11.975076</td>\n",
       "      <td>-26.0</td>\n",
       "      <td>-5.00</td>\n",
       "      <td>4.0</td>\n",
       "      <td>9.00</td>\n",
       "      <td>27.0</td>\n",
       "    </tr>\n",
       "    <tr>\n",
       "      <th>Knicks</th>\n",
       "      <td>41.0</td>\n",
       "      <td>-7.853659</td>\n",
       "      <td>11.448932</td>\n",
       "      <td>-28.0</td>\n",
       "      <td>-15.00</td>\n",
       "      <td>-8.0</td>\n",
       "      <td>-2.00</td>\n",
       "      <td>19.0</td>\n",
       "    </tr>\n",
       "    <tr>\n",
       "      <th>Lakers</th>\n",
       "      <td>41.0</td>\n",
       "      <td>-0.170732</td>\n",
       "      <td>10.725909</td>\n",
       "      <td>-19.0</td>\n",
       "      <td>-8.00</td>\n",
       "      <td>1.0</td>\n",
       "      <td>7.00</td>\n",
       "      <td>24.0</td>\n",
       "    </tr>\n",
       "    <tr>\n",
       "      <th>Magic</th>\n",
       "      <td>43.0</td>\n",
       "      <td>1.906977</td>\n",
       "      <td>16.803931</td>\n",
       "      <td>-39.0</td>\n",
       "      <td>-6.50</td>\n",
       "      <td>3.0</td>\n",
       "      <td>10.00</td>\n",
       "      <td>38.0</td>\n",
       "    </tr>\n",
       "    <tr>\n",
       "      <th>Mavericks</th>\n",
       "      <td>41.0</td>\n",
       "      <td>2.341463</td>\n",
       "      <td>12.885282</td>\n",
       "      <td>-30.0</td>\n",
       "      <td>-5.00</td>\n",
       "      <td>3.0</td>\n",
       "      <td>8.00</td>\n",
       "      <td>50.0</td>\n",
       "    </tr>\n",
       "    <tr>\n",
       "      <th>Nets</th>\n",
       "      <td>43.0</td>\n",
       "      <td>1.953488</td>\n",
       "      <td>13.474762</td>\n",
       "      <td>-19.0</td>\n",
       "      <td>-8.50</td>\n",
       "      <td>1.0</td>\n",
       "      <td>7.50</td>\n",
       "      <td>39.0</td>\n",
       "    </tr>\n",
       "    <tr>\n",
       "      <th>Nuggets</th>\n",
       "      <td>48.0</td>\n",
       "      <td>9.833333</td>\n",
       "      <td>14.287822</td>\n",
       "      <td>-31.0</td>\n",
       "      <td>2.00</td>\n",
       "      <td>8.5</td>\n",
       "      <td>18.75</td>\n",
       "      <td>45.0</td>\n",
       "    </tr>\n",
       "    <tr>\n",
       "      <th>Pacers</th>\n",
       "      <td>43.0</td>\n",
       "      <td>7.000000</td>\n",
       "      <td>16.313885</td>\n",
       "      <td>-32.0</td>\n",
       "      <td>-4.50</td>\n",
       "      <td>8.0</td>\n",
       "      <td>15.50</td>\n",
       "      <td>42.0</td>\n",
       "    </tr>\n",
       "    <tr>\n",
       "      <th>Pelicans</th>\n",
       "      <td>41.0</td>\n",
       "      <td>-0.878049</td>\n",
       "      <td>14.005704</td>\n",
       "      <td>-30.0</td>\n",
       "      <td>-10.00</td>\n",
       "      <td>-2.0</td>\n",
       "      <td>9.00</td>\n",
       "      <td>26.0</td>\n",
       "    </tr>\n",
       "    <tr>\n",
       "      <th>Pistons</th>\n",
       "      <td>43.0</td>\n",
       "      <td>1.534884</td>\n",
       "      <td>12.509708</td>\n",
       "      <td>-27.0</td>\n",
       "      <td>-7.00</td>\n",
       "      <td>4.0</td>\n",
       "      <td>9.00</td>\n",
       "      <td>26.0</td>\n",
       "    </tr>\n",
       "    <tr>\n",
       "      <th>Raptors</th>\n",
       "      <td>54.0</td>\n",
       "      <td>8.037037</td>\n",
       "      <td>11.676396</td>\n",
       "      <td>-16.0</td>\n",
       "      <td>2.00</td>\n",
       "      <td>8.5</td>\n",
       "      <td>16.00</td>\n",
       "      <td>36.0</td>\n",
       "    </tr>\n",
       "    <tr>\n",
       "      <th>Rockets</th>\n",
       "      <td>47.0</td>\n",
       "      <td>7.531915</td>\n",
       "      <td>13.142780</td>\n",
       "      <td>-20.0</td>\n",
       "      <td>2.00</td>\n",
       "      <td>7.0</td>\n",
       "      <td>16.00</td>\n",
       "      <td>36.0</td>\n",
       "    </tr>\n",
       "    <tr>\n",
       "      <th>Spurs</th>\n",
       "      <td>44.0</td>\n",
       "      <td>6.681818</td>\n",
       "      <td>13.021936</td>\n",
       "      <td>-31.0</td>\n",
       "      <td>1.75</td>\n",
       "      <td>7.0</td>\n",
       "      <td>13.00</td>\n",
       "      <td>38.0</td>\n",
       "    </tr>\n",
       "    <tr>\n",
       "      <th>Suns</th>\n",
       "      <td>41.0</td>\n",
       "      <td>-6.292683</td>\n",
       "      <td>12.570290</td>\n",
       "      <td>-30.0</td>\n",
       "      <td>-16.00</td>\n",
       "      <td>-7.0</td>\n",
       "      <td>4.00</td>\n",
       "      <td>21.0</td>\n",
       "    </tr>\n",
       "    <tr>\n",
       "      <th>Thunder</th>\n",
       "      <td>43.0</td>\n",
       "      <td>4.813953</td>\n",
       "      <td>11.934855</td>\n",
       "      <td>-22.0</td>\n",
       "      <td>-3.50</td>\n",
       "      <td>6.0</td>\n",
       "      <td>12.50</td>\n",
       "      <td>25.0</td>\n",
       "    </tr>\n",
       "    <tr>\n",
       "      <th>Timberwolves</th>\n",
       "      <td>41.0</td>\n",
       "      <td>2.878049</td>\n",
       "      <td>12.930961</td>\n",
       "      <td>-30.0</td>\n",
       "      <td>-6.00</td>\n",
       "      <td>3.0</td>\n",
       "      <td>10.00</td>\n",
       "      <td>39.0</td>\n",
       "    </tr>\n",
       "    <tr>\n",
       "      <th>Trail Blazers</th>\n",
       "      <td>49.0</td>\n",
       "      <td>7.510204</td>\n",
       "      <td>11.970663</td>\n",
       "      <td>-30.0</td>\n",
       "      <td>3.00</td>\n",
       "      <td>7.0</td>\n",
       "      <td>13.00</td>\n",
       "      <td>34.0</td>\n",
       "    </tr>\n",
       "    <tr>\n",
       "      <th>Warriors</th>\n",
       "      <td>52.0</td>\n",
       "      <td>5.500000</td>\n",
       "      <td>17.509101</td>\n",
       "      <td>-35.0</td>\n",
       "      <td>-4.00</td>\n",
       "      <td>6.0</td>\n",
       "      <td>17.00</td>\n",
       "      <td>47.0</td>\n",
       "    </tr>\n",
       "    <tr>\n",
       "      <th>Wizards</th>\n",
       "      <td>41.0</td>\n",
       "      <td>1.756098</td>\n",
       "      <td>11.512559</td>\n",
       "      <td>-23.0</td>\n",
       "      <td>-6.00</td>\n",
       "      <td>3.0</td>\n",
       "      <td>10.00</td>\n",
       "      <td>24.0</td>\n",
       "    </tr>\n",
       "  </tbody>\n",
       "</table>\n",
       "</div>"
      ],
      "text/plain": [
       "                count       mean        std   min    25%   50%    75%   max\n",
       "home_team_name                                                             \n",
       "76ers            47.0   8.319149  12.460558 -15.0  -0.50   7.0  18.00  42.0\n",
       "Bucks            49.0  12.224490  14.237956 -22.0   6.00  14.0  21.00  43.0\n",
       "Bulls            41.0  -9.804878  13.946719 -56.0 -19.00  -7.0  -1.00  12.0\n",
       "Cavaliers        41.0  -7.341463  15.650255 -36.0 -19.00  -9.0   5.00  25.0\n",
       "Celtics          45.0   6.155556  13.249281 -19.0  -5.00   7.0  13.00  33.0\n",
       "Clippers         44.0   1.818182  15.658080 -32.0  -6.50   4.5  11.75  32.0\n",
       "Grizzlies        41.0   0.439024  10.124349 -23.0  -8.00   1.0   9.00  21.0\n",
       "Hawks            41.0  -4.024390  12.424749 -31.0 -15.00  -5.0   5.00  24.0\n",
       "Heat             41.0   0.243902  13.992463 -23.0 -10.00  -2.0   7.00  34.0\n",
       "Hornets          41.0   3.682927  13.543336 -38.0  -4.00   5.0  12.00  32.0\n",
       "Jazz             43.0   7.790698  15.386386 -33.0  -2.00   8.0  17.00  34.0\n",
       "Kings            41.0   1.439024  11.975076 -26.0  -5.00   4.0   9.00  27.0\n",
       "Knicks           41.0  -7.853659  11.448932 -28.0 -15.00  -8.0  -2.00  19.0\n",
       "Lakers           41.0  -0.170732  10.725909 -19.0  -8.00   1.0   7.00  24.0\n",
       "Magic            43.0   1.906977  16.803931 -39.0  -6.50   3.0  10.00  38.0\n",
       "Mavericks        41.0   2.341463  12.885282 -30.0  -5.00   3.0   8.00  50.0\n",
       "Nets             43.0   1.953488  13.474762 -19.0  -8.50   1.0   7.50  39.0\n",
       "Nuggets          48.0   9.833333  14.287822 -31.0   2.00   8.5  18.75  45.0\n",
       "Pacers           43.0   7.000000  16.313885 -32.0  -4.50   8.0  15.50  42.0\n",
       "Pelicans         41.0  -0.878049  14.005704 -30.0 -10.00  -2.0   9.00  26.0\n",
       "Pistons          43.0   1.534884  12.509708 -27.0  -7.00   4.0   9.00  26.0\n",
       "Raptors          54.0   8.037037  11.676396 -16.0   2.00   8.5  16.00  36.0\n",
       "Rockets          47.0   7.531915  13.142780 -20.0   2.00   7.0  16.00  36.0\n",
       "Spurs            44.0   6.681818  13.021936 -31.0   1.75   7.0  13.00  38.0\n",
       "Suns             41.0  -6.292683  12.570290 -30.0 -16.00  -7.0   4.00  21.0\n",
       "Thunder          43.0   4.813953  11.934855 -22.0  -3.50   6.0  12.50  25.0\n",
       "Timberwolves     41.0   2.878049  12.930961 -30.0  -6.00   3.0  10.00  39.0\n",
       "Trail Blazers    49.0   7.510204  11.970663 -30.0   3.00   7.0  13.00  34.0\n",
       "Warriors         52.0   5.500000  17.509101 -35.0  -4.00   6.0  17.00  47.0\n",
       "Wizards          41.0   1.756098  11.512559 -23.0  -6.00   3.0  10.00  24.0"
      ]
     },
     "execution_count": 17,
     "metadata": {},
     "output_type": "execute_result"
    }
   ],
   "source": [
    "gamesDataHome.groupby('home_team_name')['home_diff'].describe()"
   ]
  },
  {
   "cell_type": "code",
   "execution_count": 18,
   "metadata": {
    "ExecuteTime": {
     "end_time": "2020-02-07T14:33:58.982164Z",
     "start_time": "2020-02-07T14:33:58.383766Z"
    }
   },
   "outputs": [
    {
     "data": {
      "image/png": "[encoded data removed]",
      "text/plain": [
       "<Figure size 432x288 with 1 Axes>"
      ]
     },
     "metadata": {
      "needs_background": "light"
     },
     "output_type": "display_data"
    }
   ],
   "source": [
    "# Set order for boxplots\n",
    "my_order = gamesDataHome.groupby(\"home_team_name\")[\"home_diff\"].mean().sort_values(ascending=False).index\n",
    "\n",
    "\n",
    "sns.boxplot(y='home_team_name', x='home_diff', data=gamesDataHome, orient='h', order=my_order);"
   ]
  },
  {
   "cell_type": "markdown",
   "metadata": {},
   "source": [
    "## East vs West (OLD)\n",
    "\n",
    "I'd like to conduct a test to determine which conference is better: East or West\n",
    "\n",
    "I'll do the following:\n",
    "1. Define the test\n",
    "2. Create the appropriate dataframe\n",
    "3. Check for assumptions\n",
    "4. Run test and interpret results"
   ]
  },
  {
   "cell_type": "markdown",
   "metadata": {},
   "source": [
    "### Define Test\n",
    "\n",
    "Each game has two scores: score for team 1 (East) and score for team 2 (West). For games where an East team plays a West team, \n",
    "\n",
    "$H_0$\n",
    "Null hypothesis: Mean Difference between East and West teams is 0; teams score relatively the same number of points per game.\n",
    "\n",
    "Alternative hypothesis: Mean Difference is NOT 0; either East teams on average score more or score less than West teams."
   ]
  },
  {
   "cell_type": "markdown",
   "metadata": {},
   "source": [
    "### Set up dataframe"
   ]
  },
  {
   "cell_type": "markdown",
   "metadata": {},
   "source": [
    "Using the 'conference' columns from the 'home_team' and 'visitor_team' columns to make columns in terms of East and West."
   ]
  },
  {
   "cell_type": "code",
   "execution_count": 7,
   "metadata": {
    "ExecuteTime": {
     "end_time": "2020-02-05T19:53:00.393038Z",
     "start_time": "2020-02-05T19:52:59.969164Z"
    }
   },
   "outputs": [
    {
     "data": {
      "text/html": [
       "<div>\n",
       "<style scoped>\n",
       "    .dataframe tbody tr th:only-of-type {\n",
       "        vertical-align: middle;\n",
       "    }\n",
       "\n",
       "    .dataframe tbody tr th {\n",
       "        vertical-align: top;\n",
       "    }\n",
       "\n",
       "    .dataframe thead th {\n",
       "        text-align: right;\n",
       "    }\n",
       "</style>\n",
       "<table border=\"1\" class=\"dataframe\">\n",
       "  <thead>\n",
       "    <tr style=\"text-align: right;\">\n",
       "      <th></th>\n",
       "      <th>id</th>\n",
       "      <th>date</th>\n",
       "      <th>home_team_score</th>\n",
       "      <th>period</th>\n",
       "      <th>postseason</th>\n",
       "      <th>season</th>\n",
       "      <th>status</th>\n",
       "      <th>time</th>\n",
       "      <th>visitor_team_score</th>\n",
       "      <th>home_team_id</th>\n",
       "      <th>...</th>\n",
       "      <th>visitor_team_city</th>\n",
       "      <th>visitor_team_conference</th>\n",
       "      <th>visitor_team_division</th>\n",
       "      <th>visitor_team_full_name</th>\n",
       "      <th>visitor_team_name</th>\n",
       "      <th>east_team</th>\n",
       "      <th>east_score</th>\n",
       "      <th>west_team</th>\n",
       "      <th>west_score</th>\n",
       "      <th>east_minus_west</th>\n",
       "    </tr>\n",
       "  </thead>\n",
       "  <tbody>\n",
       "    <tr>\n",
       "      <th>1</th>\n",
       "      <td>48751</td>\n",
       "      <td>2019-02-09T00:00:00.000Z</td>\n",
       "      <td>112</td>\n",
       "      <td>4</td>\n",
       "      <td>False</td>\n",
       "      <td>2018</td>\n",
       "      <td>Final</td>\n",
       "      <td></td>\n",
       "      <td>123</td>\n",
       "      <td>2</td>\n",
       "      <td>...</td>\n",
       "      <td>LA</td>\n",
       "      <td>West</td>\n",
       "      <td>Pacific</td>\n",
       "      <td>LA Clippers</td>\n",
       "      <td>Clippers</td>\n",
       "      <td>Boston Celtics</td>\n",
       "      <td>112</td>\n",
       "      <td>LA Clippers</td>\n",
       "      <td>123</td>\n",
       "      <td>-11</td>\n",
       "    </tr>\n",
       "    <tr>\n",
       "      <th>2</th>\n",
       "      <td>48739</td>\n",
       "      <td>2019-02-08T00:00:00.000Z</td>\n",
       "      <td>117</td>\n",
       "      <td>4</td>\n",
       "      <td>False</td>\n",
       "      <td>2018</td>\n",
       "      <td>Final</td>\n",
       "      <td></td>\n",
       "      <td>110</td>\n",
       "      <td>23</td>\n",
       "      <td>...</td>\n",
       "      <td>Denver</td>\n",
       "      <td>West</td>\n",
       "      <td>Northwest</td>\n",
       "      <td>Denver Nuggets</td>\n",
       "      <td>Nuggets</td>\n",
       "      <td>Philadelphia 76ers</td>\n",
       "      <td>117</td>\n",
       "      <td>Denver Nuggets</td>\n",
       "      <td>110</td>\n",
       "      <td>7</td>\n",
       "    </tr>\n",
       "    <tr>\n",
       "      <th>4</th>\n",
       "      <td>48746</td>\n",
       "      <td>2019-02-08T00:00:00.000Z</td>\n",
       "      <td>102</td>\n",
       "      <td>4</td>\n",
       "      <td>False</td>\n",
       "      <td>2018</td>\n",
       "      <td>Final</td>\n",
       "      <td></td>\n",
       "      <td>96</td>\n",
       "      <td>26</td>\n",
       "      <td>...</td>\n",
       "      <td>Miami</td>\n",
       "      <td>East</td>\n",
       "      <td>Southeast</td>\n",
       "      <td>Miami Heat</td>\n",
       "      <td>Heat</td>\n",
       "      <td>Miami Heat</td>\n",
       "      <td>96</td>\n",
       "      <td>Sacramento Kings</td>\n",
       "      <td>102</td>\n",
       "      <td>-6</td>\n",
       "    </tr>\n",
       "    <tr>\n",
       "      <th>12</th>\n",
       "      <td>48760</td>\n",
       "      <td>2019-02-10T00:00:00.000Z</td>\n",
       "      <td>143</td>\n",
       "      <td>4</td>\n",
       "      <td>False</td>\n",
       "      <td>2018</td>\n",
       "      <td>Final</td>\n",
       "      <td></td>\n",
       "      <td>120</td>\n",
       "      <td>23</td>\n",
       "      <td>...</td>\n",
       "      <td>Los Angeles</td>\n",
       "      <td>West</td>\n",
       "      <td>Pacific</td>\n",
       "      <td>Los Angeles Lakers</td>\n",
       "      <td>Lakers</td>\n",
       "      <td>Philadelphia 76ers</td>\n",
       "      <td>143</td>\n",
       "      <td>Los Angeles Lakers</td>\n",
       "      <td>120</td>\n",
       "      <td>23</td>\n",
       "    </tr>\n",
       "    <tr>\n",
       "      <th>16</th>\n",
       "      <td>48759</td>\n",
       "      <td>2019-02-10T00:00:00.000Z</td>\n",
       "      <td>120</td>\n",
       "      <td>4</td>\n",
       "      <td>False</td>\n",
       "      <td>2018</td>\n",
       "      <td>Final</td>\n",
       "      <td></td>\n",
       "      <td>118</td>\n",
       "      <td>10</td>\n",
       "      <td>...</td>\n",
       "      <td>Miami</td>\n",
       "      <td>East</td>\n",
       "      <td>Southeast</td>\n",
       "      <td>Miami Heat</td>\n",
       "      <td>Heat</td>\n",
       "      <td>Miami Heat</td>\n",
       "      <td>118</td>\n",
       "      <td>Golden State Warriors</td>\n",
       "      <td>120</td>\n",
       "      <td>-2</td>\n",
       "    </tr>\n",
       "  </tbody>\n",
       "</table>\n",
       "<p>5 rows × 28 columns</p>\n",
       "</div>"
      ],
      "text/plain": [
       "       id                      date  home_team_score  period  postseason  \\\n",
       "1   48751  2019-02-09T00:00:00.000Z              112       4       False   \n",
       "2   48739  2019-02-08T00:00:00.000Z              117       4       False   \n",
       "4   48746  2019-02-08T00:00:00.000Z              102       4       False   \n",
       "12  48760  2019-02-10T00:00:00.000Z              143       4       False   \n",
       "16  48759  2019-02-10T00:00:00.000Z              120       4       False   \n",
       "\n",
       "    season status   time  visitor_team_score  home_team_id  ...  \\\n",
       "1     2018  Final                        123             2  ...   \n",
       "2     2018  Final                        110            23  ...   \n",
       "4     2018  Final                         96            26  ...   \n",
       "12    2018  Final                        120            23  ...   \n",
       "16    2018  Final                        118            10  ...   \n",
       "\n",
       "   visitor_team_city visitor_team_conference visitor_team_division  \\\n",
       "1                 LA                    West               Pacific   \n",
       "2             Denver                    West             Northwest   \n",
       "4              Miami                    East             Southeast   \n",
       "12       Los Angeles                    West               Pacific   \n",
       "16             Miami                    East             Southeast   \n",
       "\n",
       "   visitor_team_full_name visitor_team_name           east_team  east_score  \\\n",
       "1             LA Clippers          Clippers      Boston Celtics         112   \n",
       "2          Denver Nuggets           Nuggets  Philadelphia 76ers         117   \n",
       "4              Miami Heat              Heat          Miami Heat          96   \n",
       "12     Los Angeles Lakers            Lakers  Philadelphia 76ers         143   \n",
       "16             Miami Heat              Heat          Miami Heat         118   \n",
       "\n",
       "                west_team west_score east_minus_west  \n",
       "1             LA Clippers        123             -11  \n",
       "2          Denver Nuggets        110               7  \n",
       "4        Sacramento Kings        102              -6  \n",
       "12     Los Angeles Lakers        120              23  \n",
       "16  Golden State Warriors        120              -2  \n",
       "\n",
       "[5 rows x 28 columns]"
      ]
     },
     "execution_count": 7,
     "metadata": {},
     "output_type": "execute_result"
    }
   ],
   "source": [
    "# Add columns to dataframe\n",
    "eastWestDF = dp.makeEastWestDF(gamesData)\n",
    "\n",
    "# Filter for one season\n",
    "eastWestDF = eastWestDF.loc[eastWestDF['season']==2018]\n",
    "\n",
    "eastWestDF.head()"
   ]
  },
  {
   "cell_type": "markdown",
   "metadata": {},
   "source": [
    "### Check Assumptions"
   ]
  },
  {
   "cell_type": "markdown",
   "metadata": {},
   "source": [
    "#### Normal distribution"
   ]
  },
  {
   "cell_type": "markdown",
   "metadata": {},
   "source": [
    "Let's plot the variable"
   ]
  },
  {
   "cell_type": "code",
   "execution_count": 8,
   "metadata": {
    "ExecuteTime": {
     "end_time": "2020-02-05T19:53:10.209584Z",
     "start_time": "2020-02-05T19:53:09.553424Z"
    }
   },
   "outputs": [
    {
     "data": {
      "image/png": "[encoded data removed]",
      "text/plain": [
       "<Figure size 432x288 with 1 Axes>"
      ]
     },
     "metadata": {
      "needs_background": "light"
     },
     "output_type": "display_data"
    }
   ],
   "source": [
    "sns.distplot(eastWestDF['east_minus_west']);"
   ]
  },
  {
   "cell_type": "code",
   "execution_count": null,
   "metadata": {},
   "outputs": [],
   "source": [
    "# stats.probplot(eastWestDF['east_minus_west'], plot=plt)"
   ]
  },
  {
   "cell_type": "code",
   "execution_count": 25,
   "metadata": {
    "ExecuteTime": {
     "end_time": "2020-02-05T20:01:41.118566Z",
     "start_time": "2020-02-05T20:01:40.973970Z"
    }
   },
   "outputs": [
    {
     "data": {
      "text/plain": [
       "(0.9934282898902893, 0.044508881866931915)"
      ]
     },
     "execution_count": 25,
     "metadata": {},
     "output_type": "execute_result"
    }
   ],
   "source": [
    "stats.shapiro(eastWestDF['east_minus_west'])"
   ]
  },
  {
   "cell_type": "markdown",
   "metadata": {},
   "source": [
    "#### Outliers"
   ]
  },
  {
   "cell_type": "code",
   "execution_count": 17,
   "metadata": {
    "ExecuteTime": {
     "end_time": "2020-02-05T19:57:14.649012Z",
     "start_time": "2020-02-05T19:57:14.308889Z"
    }
   },
   "outputs": [
    {
     "data": {
      "image/png": "[encoded data removed]",
      "text/plain": [
       "<Figure size 432x288 with 1 Axes>"
      ]
     },
     "metadata": {
      "needs_background": "light"
     },
     "output_type": "display_data"
    }
   ],
   "source": [
    "sns.boxplot(data=eastWestDF[['east_score', 'west_score']]);"
   ]
  }
 ],
 "metadata": {
  "kernelspec": {
   "display_name": "Python 3",
   "language": "python",
   "name": "python3"
  },
  "language_info": {
   "codemirror_mode": {
    "name": "ipython",
    "version": 3
   },
   "file_extension": ".py",
   "mimetype": "text/x-python",
   "name": "python",
   "nbconvert_exporter": "python",
   "pygments_lexer": "ipython3",
   "version": "3.7.3"
  },
  "notify_time": "5",
  "toc": {
   "base_numbering": 1,
   "nav_menu": {},
   "number_sections": true,
   "sideBar": true,
   "skip_h1_title": false,
   "title_cell": "Table of Contents",
   "title_sidebar": "Contents",
   "toc_cell": false,
   "toc_position": {},
   "toc_section_display": true,
   "toc_window_display": true
  },
  "varInspector": {
   "cols": {
    "lenName": 16,
    "lenType": 16,
    "lenVar": 40
   },
   "kernels_config": {
    "python": {
     "delete_cmd_postfix": "",
     "delete_cmd_prefix": "del ",
     "library": "var_list.py",
     "varRefreshCmd": "print(var_dic_list())"
    },
    "r": {
     "delete_cmd_postfix": ") ",
     "delete_cmd_prefix": "rm(",
     "library": "var_list.r",
     "varRefreshCmd": "cat(var_dic_list()) "
    }
   },
   "types_to_exclude": [
    "module",
    "function",
    "builtin_function_or_method",
    "instance",
    "_Feature"
   ],
   "window_display": false
  }
 },
 "nbformat": 4,
 "nbformat_minor": 2
}
